{
 "cells": [
  {
   "cell_type": "markdown",
   "metadata": {},
   "source": [
    "# 01 Create Data for Path Animation Decision Model"
   ]
  },
  {
   "cell_type": "markdown",
   "metadata": {
    "collapsed": true
   },
   "source": [
    "In this notebook, we create a training dataset for a model that decides which paths of an SVG file should be animated. For this, the following steps are required:\n",
    "* Create a subset of the most critical paths of an SVG file and extract them into separate SVG files\n",
    "* Upload the separate SVG files to our label website and then label which paths should be animated\n",
    "* Download the labelled dataset from the website and preprocess them to be used to train a model"
   ]
  },
  {
   "cell_type": "markdown",
   "metadata": {},
   "source": [
    "## I. Create a subset of the most critical paths of an SVG file and extract them into separate SVG files"
   ]
  },
  {
   "cell_type": "markdown",
   "metadata": {},
   "source": [
    "Before we are able to extract the most important paths of a SVG (measured by MSE when removed) we have to preprocess the logos and then decompose the logos into the separat paths."
   ]
  },
  {
   "cell_type": "code",
   "execution_count": 1,
   "metadata": {},
   "outputs": [],
   "source": [
    "from src.preprocessing.insert_paths_ids import insert_ids_in_folder\n",
    "from src.preprocessing.decompose_logo import decompose_logos_in_folder\n",
    "from src.preprocessing.sort_and_extract_paths import *"
   ]
  },
  {
   "cell_type": "markdown",
   "metadata": {},
   "source": [
    "Add unique identifiers to every path of a svg file. The decompose logos in their separate paths."
   ]
  },
  {
   "cell_type": "code",
   "execution_count": null,
   "metadata": {},
   "outputs": [],
   "source": [
    "insert_ids_in_folder(\"../data/external/logos_dataset\", new_folder=\"../data/interim/logos_preprocessed\")"
   ]
  },
  {
   "cell_type": "code",
   "execution_count": null,
   "metadata": {},
   "outputs": [],
   "source": [
    "expand_viewbox_in_folder(\"../data/interim/logos_preprocessed\", 50, \"../data/interim/logos_preprocessed\")"
   ]
  },
  {
   "cell_type": "code",
   "execution_count": null,
   "metadata": {},
   "outputs": [],
   "source": [
    "decompose_logos_in_folder(\"../data/interim/logos_preprocessed\", \"../data/interim/logos_decomposed\")"
   ]
  },
  {
   "cell_type": "code",
   "execution_count": null,
   "metadata": {},
   "outputs": [],
   "source": [
    "apply_embedding_model_to_svgs(data_folder=\"../data/interim/logos_decomposed\", split_paths=True, save=True)"
   ]
  },
  {
   "cell_type": "code",
   "execution_count": null,
   "metadata": {},
   "outputs": [],
   "source": [
    "with open('data/embeddings/hierarchical_ordered_decomposed_svgs_embedding.pkl', 'rb') as f:\n",
    "    path_embedding = pickle.load(f)"
   ]
  },
  {
   "cell_type": "markdown",
   "metadata": {},
   "source": [
    "@Becci was sind hier die nächsten Schritte mit dem Modul sort_and_extract_paths"
   ]
  },
  {
   "cell_type": "markdown",
   "metadata": {},
   "source": [
    "## II. Upload the separate SVG files to our label website and then label which paths should be animated"
   ]
  },
  {
   "cell_type": "markdown",
   "metadata": {},
   "source": [
    "The selected svg files containing paths in \"../data/interim/logos_paths_selected\" are uploaded to the [label website](https://animate-logos.web.app/label-paths.html). After they have been labelled by enough persons, the data can be downloaded in the next step."
   ]
  },
  {
   "cell_type": "markdown",
   "metadata": {},
   "source": [
    "## III. Download the labelled dataset from the website and preprocess them to be used to train a model"
   ]
  },
  {
   "cell_type": "markdown",
   "metadata": {},
   "source": [
    "We have to download the data from the websites database and then prepare them for the modelling."
   ]
  },
  {
   "cell_type": "code",
   "execution_count": null,
   "metadata": {},
   "outputs": [],
   "source": [
    "from src.data.interact_with_website_database import connect_to_firestore, retrieve_documents_from_collection\n",
    "from src.data.aggregate_path_label import aggregate_path_animation_decisions_label"
   ]
  },
  {
   "cell_type": "code",
   "execution_count": null,
   "metadata": {},
   "outputs": [],
   "source": [
    "firestore_client = connect_to_firestore()"
   ]
  },
  {
   "cell_type": "code",
   "execution_count": null,
   "metadata": {},
   "outputs": [],
   "source": [
    "logos_dataset_paths_animation_decisions = retrieve_documents_from_collection(firestore_client,\n",
    "                                                                                 collection=\"labelpath\")\n",
    "logos_dataset_paths_animation_decisions.to_csv(\n",
    "        \"../../data/interim/logos_paths_animation_decision_label/logos_dataset_paths_animation_decisions.csv\")"
   ]
  },
  {
   "cell_type": "code",
   "execution_count": null,
   "metadata": {},
   "outputs": [],
   "source": [
    "aggregate_path_animation_decisions_label(path_decision_labels_dataset=\n",
    "                                   \"../../data/interim/logos_paths_animation_decision_label\"\n",
    "                                   \"/logos_dataset_paths_animation_decisions.csv\",\n",
    "                                   matching_filenames_canva_dataset=\"../../data/interim/logos_paths_information\"\n",
    "                                                                    \"/matching_filenames_canva.csv\",\n",
    "                                   matching_filenames_designer_dataset=\"../../data/interim\"\n",
    "                                                                       \"/logos_paths_information\"\n",
    "                                                                       \"/matching_filenames_designer.csv\"):"
   ]
  }
 ],
 "metadata": {
  "kernelspec": {
   "display_name": "Python 3",
   "language": "python",
   "name": "python3"
  },
  "language_info": {
   "codemirror_mode": {
    "name": "ipython",
    "version": 3
   },
   "file_extension": ".py",
   "mimetype": "text/x-python",
   "name": "python",
   "nbconvert_exporter": "python",
   "pygments_lexer": "ipython3",
   "version": "3.7.9"
  }
 },
 "nbformat": 4,
 "nbformat_minor": 1
}
